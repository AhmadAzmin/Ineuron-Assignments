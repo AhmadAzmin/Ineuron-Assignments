{
  "nbformat": 4,
  "nbformat_minor": 0,
  "metadata": {
    "colab": {
      "name": "Assignment_1.ipynb",
      "provenance": []
    },
    "kernelspec": {
      "name": "python3",
      "display_name": "Python 3"
    },
    "language_info": {
      "name": "python"
    }
  },
  "cells": [
    {
      "cell_type": "code",
      "execution_count": null,
      "metadata": {
        "id": "dcy-lO2_aCtB"
      },
      "outputs": [],
      "source": [
        "1. In the below elements which of them are values or an expression? eg:- values can be integer or string and expressions will be mathematical operators.\n",
        "* = expressions\n",
        "'hello' = values\n",
        "-87.8 = values\n",
        "-  = expressions\n",
        "/  = expression\n",
        "+\t=  expressions\n",
        "6  = integer\n"
      ]
    },
    {
      "cell_type": "code",
      "source": [
        "2. What is the difference between string and variable?\n",
        "Ans : String is the data we input in the program while variable is the tool that hold/store the data.\n"
      ],
      "metadata": {
        "id": "1ZHGt6YCaH_h"
      },
      "execution_count": null,
      "outputs": []
    },
    {
      "cell_type": "code",
      "source": [
        "3. Describe three different data types.\n",
        "Some of the 3 data types are :\n",
        "List\n",
        "String\n",
        "Tuple\n"
      ],
      "metadata": {
        "id": "IIMKnI4XaZy4"
      },
      "execution_count": null,
      "outputs": []
    },
    {
      "cell_type": "code",
      "source": [
        "4. What is an expression made up of? What do all expressions do?\n",
        "Ans : An expression is a combination of values, variables, operators, and calls to functions. Expressions need to be evaluated. If we ask Python to print an expression, the interpreter evaluates the expression and shows the result.\n"
      ],
      "metadata": {
        "id": "3_belD6San29"
      },
      "execution_count": null,
      "outputs": []
    },
    {
      "cell_type": "code",
      "source": [
        "5. This assignment statements, like spam = 10. What is the difference between an expression and a statement?\n",
        "Ans : An expression is a combination of values, variables, and operators.When we type an expression at the prompt, the interpreter evaluates it, which means that it finds the value of the expression.\n",
        "A statement is a unit of code that has an effect, like creating a variable or displaying a value.When we type a statement, the interpreter executes it, which means that it does whatever the statement says. In general, statements don’t have values.\n"
      ],
      "metadata": {
        "id": "_ms86NWnaxmV"
      },
      "execution_count": null,
      "outputs": []
    },
    {
      "cell_type": "code",
      "source": [
        "6. After running the following code, what does the variable bacon contain?\n",
        "bacon = 22\n",
        "bacon + 1\n",
        "\n",
        "Ans = Bacon contains 22 + 1 = 23\n"
      ],
      "metadata": {
        "id": "IPTc2jRTcNw9"
      },
      "execution_count": null,
      "outputs": []
    },
    {
      "cell_type": "code",
      "source": [
        "7. What should the values of the following two terms be?\n",
        "'spam' + 'spamspam' = “spamspamspam”\n",
        "'spam' * 3 = “spamspamspam”\n",
        "Both execute the same\n"
      ],
      "metadata": {
        "id": "vv46hAx6caPJ"
      },
      "execution_count": null,
      "outputs": []
    },
    {
      "cell_type": "code",
      "source": [
        "8. Why is eggs a valid variable name while 100 is invalid?\n",
        "According to rules of python, variable should not start with number but can be alphanumeric\n"
      ],
      "metadata": {
        "id": "7VEHUtMnchY1"
      },
      "execution_count": null,
      "outputs": []
    },
    {
      "cell_type": "code",
      "source": [
        "9. What three functions can be used to get the integer, floating-point number, or string version of a value?\n",
        "\n",
        "The three functions are :\n",
        "int()\n",
        "float()\n",
        "str()\n"
      ],
      "metadata": {
        "id": "guQM1uXQcqFI"
      },
      "execution_count": null,
      "outputs": []
    },
    {
      "cell_type": "code",
      "source": [
        "10. Why does this expression cause an error? How can you fix it?\n",
        "'I have eaten ' + 99 + ' burritos.'\n",
        "\n",
        "Ans : 99 is a integer while in the statement there is string, so convert 99 into str format to get the answer\n",
        "\n",
        "print('I have eaten ' + str(99) + ' burritos.')\n"
      ],
      "metadata": {
        "id": "Qz-DSxQqcrfH"
      },
      "execution_count": null,
      "outputs": []
    }
  ]
}